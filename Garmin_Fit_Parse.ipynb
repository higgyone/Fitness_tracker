{
 "cells": [
  {
   "cell_type": "code",
   "execution_count": null,
   "id": "311a5989",
   "metadata": {},
   "outputs": [],
   "source": [
    "import matplotlib.pyplot as plt\n",
    "import numpy as np\n",
    "import pandas as pd\n",
    "import fitparse as fp\n",
    "import csv\n",
    "import pytz\n",
    "import datetime\n",
    "from pathlib import Path\n",
    "import os\n",
    "import shutil\n",
    "from pathlib import Path\n",
    "import re"
   ]
  },
  {
   "cell_type": "code",
   "execution_count": null,
   "id": "fdec7e5e",
   "metadata": {},
   "outputs": [],
   "source": [
    "def print_record(data):\n",
    "    \"\"\"\n",
    "    test method to print out the data in a record\n",
    "    \"\"\"\n",
    "    for record in data:\n",
    "        for field in record:\n",
    "            if field.units:\n",
    "                print (\" * %s: %s %s\" % (\n",
    "                    field.name, field.value, field.units))\n",
    "            else:\n",
    "                print (\" * %s: %s\" % (field.name, field.value))"
   ]
  },
  {
   "cell_type": "code",
   "execution_count": null,
   "id": "edd04df6",
   "metadata": {},
   "outputs": [],
   "source": [
    "def get_time(record):\n",
    "    \"\"\"\n",
    "    extract the time from data. Note for heart rate data the timestamp is int(16) up to 65536 ~ 18hours\n",
    "    This will overflow and needs normalised so it wont give a crazy result on overflow.\n",
    "\n",
    "    Every now and then there will be a timestamp giving the right date and time. \n",
    "    Heart rate data is timestamped on a rolling seconds counter. Need to set the first timestamp_16 to the\n",
    "    global time then work out the next time based on the difference between timestamp_16s adding that to global time\n",
    "    \"\"\"\n",
    "    new_timestamp_16 = None\n",
    "    \n",
    "    # difference between successive timestamp_16\n",
    "    delta_diff = 0\n",
    "    global timestamp_16\n",
    "    global current_timestamp\n",
    "\n",
    "    for r in record:\n",
    "        if r.field is not None:\n",
    "            if r.name == 'timestamp_16':\n",
    "                new_timestamp_16 = r.value\n",
    "\n",
    "    # if the timestamp is none then set it to the global time\n",
    "    if new_timestamp_16 is not None:\n",
    "        if timestamp_16 is None:\n",
    "            timestamp_16 = new_timestamp_16\n",
    "        \n",
    "        delta_diff = new_timestamp_16 - timestamp_16\n",
    "        \n",
    "        # deal with overflow\n",
    "        if delta_diff < 0:\n",
    "            delta_diff += 65536\n",
    "        \n",
    "        current_timestamp += datetime.timedelta(seconds=delta_diff)\n",
    "        timestamp_16 = new_timestamp_16\n",
    "        #print(current_timestamp)\n",
    "        return current_timestamp"
   ]
  },
  {
   "cell_type": "code",
   "execution_count": null,
   "id": "ed42b234",
   "metadata": {},
   "outputs": [],
   "source": [
    "def get_heartrate(record):\n",
    "    \"\"\"\n",
    "    Return the heart rate from the record\n",
    "    \"\"\"\n",
    "    for r in record:\n",
    "        if r.name == 'heart_rate':\n",
    "            return r.value"
   ]
  },
  {
   "cell_type": "code",
   "execution_count": null,
   "id": "75412beb",
   "metadata": {},
   "outputs": [],
   "source": [
    "def output_messages(fitfile):\n",
    "    \"\"\"\n",
    "    Go through the fitfile and extract time and heart rate data\n",
    "    \"\"\"\n",
    "    messages = fitfile.get_messages()\n",
    "\n",
    "    current_timestamp = datetime.datetime.now()\n",
    "    timestamp_16 = None\n",
    "\n",
    "    hrdata = []\n",
    "    timestamp = []\n",
    "\n",
    "    for record in messages:\n",
    "    # Go through all the data entries in this record\n",
    "\n",
    "        # Extract the global time stamp\n",
    "        if record.name == 'monitoring_info':\n",
    "            for r in record.fields:\n",
    "                if r.field is not None:\n",
    "                    if r.field.name == 'local_timestamp':\n",
    "                        current_timestamp = r.value\n",
    "                        timestamp_16 = None\n",
    "                        #print(\"Timestamp: {}\".format(current_timestamp))\n",
    "\n",
    "        # get the heart rate data\n",
    "        if record.name == 'monitoring':\n",
    "            for r in record:\n",
    "                if r.field is not None:\n",
    "                    if r.field.name =='heart_rate':\n",
    "                        time = get_time(record)\n",
    "                        hr = get_heartrate(record)\n",
    "\n",
    "                        timestamp.append(time)\n",
    "                        hrdata.append(hr)\n",
    "                        #print(\"Time: {}   Heart: {}\".format(time,hr))"
   ]
  },
  {
   "cell_type": "code",
   "execution_count": null,
   "id": "b013ed3f",
   "metadata": {},
   "outputs": [],
   "source": [
    "def output_csv(time, hr, fi):\n",
    "    \"\"\"\n",
    "    Write the extracted time and heart rate data to csv fiile\n",
    "    \"\"\"\n",
    "    data = [time, hr]\n",
    "\n",
    "    csvFile = open(fi,'w')\n",
    "    with csvFile:\n",
    "        print(\"Writing csv to: {}\".format(fi))\n",
    "        writer = csv.writer(csvFile, lineterminator='\\n') # need lineterminator to prevent extra linebreaks\n",
    "        writer.writerow([\"Date time\", \"Heart rate BPM\"])\n",
    "        for i in range(len(time)):\n",
    "            writer.writerow([time[i],hr[i]])"
   ]
  },
  {
   "cell_type": "markdown",
   "id": "2e4157cc",
   "metadata": {},
   "source": [
    "***\n",
    "Combine all the data into one folder and strip email address out of name. Data located in\n",
    "\n",
    "\\Garmin_data\\data\n",
    "***"
   ]
  },
  {
   "cell_type": "code",
   "execution_count": null,
   "id": "deb821c4",
   "metadata": {},
   "outputs": [],
   "source": [
    "\n",
    "\n",
    "\n",
    "def copy_files_without_email(source, destination):\n",
    "    r = []\n",
    "    for root, dirs, files in os.walk(source):\n",
    "        for name in files:\n",
    "            filepath = root + os.sep + name\n",
    "            if filepath.endswith(\".fit\"):\n",
    "                name = Path(filepath)\n",
    "                #print(name.stem)\n",
    "                no_email = re.findall(r'(?<=_).*$', name.stem) # look for anything after _\n",
    "                #print(no_email[0])\n",
    "                if len(no_email)  is not None:\n",
    "                    new_name = no_email[0] + name.suffix\n",
    "                    dest = destination + new_name\n",
    "                    #print(dest)\n",
    "                    shutil.copy(filepath, destination+new_name)\n",
    "                "
   ]
  },
  {
   "cell_type": "code",
   "execution_count": null,
   "id": "19ef84ff",
   "metadata": {},
   "outputs": [],
   "source": [
    "raw_data_dir = r\"Garmin_data/data\"\n",
    "dest_data_dir = r\"Garmin_data/fit/\"\n",
    "copy_files_without_email(raw_data_dir, dest_data_dir)"
   ]
  },
  {
   "cell_type": "code",
   "execution_count": null,
   "id": "00f7aef4",
   "metadata": {},
   "outputs": [],
   "source": [
    "# get the fit files in order (maybe)\n",
    "fit_files_sorted = sorted(Path(dest_data_dir).glob('*.fit'))"
   ]
  },
  {
   "cell_type": "code",
   "execution_count": null,
   "id": "1fc96469",
   "metadata": {},
   "outputs": [],
   "source": [
    "fit_files_sorted[0].__str__()"
   ]
  },
  {
   "cell_type": "code",
   "execution_count": null,
   "id": "d166f1ca",
   "metadata": {},
   "outputs": [],
   "source": [
    "fitfile = fp.FitFile(fit_files_sorted[0].__str__()) # needs string file path and not windows path that sorted produces\n",
    "fitfile"
   ]
  },
  {
   "cell_type": "code",
   "execution_count": null,
   "id": "77922124",
   "metadata": {},
   "outputs": [],
   "source": [
    "mesx = fitfile.get_messages()\n",
    "mesx"
   ]
  },
  {
   "cell_type": "code",
   "execution_count": null,
   "id": "56eac9fa",
   "metadata": {},
   "outputs": [],
   "source": [
    "for r in mesx:\n",
    "    print(r)\n",
    "    for x in r:\n",
    "        print(x)"
   ]
  },
  {
   "cell_type": "code",
   "execution_count": null,
   "id": "9acadd79",
   "metadata": {},
   "outputs": [],
   "source": [
    "for f in fit_files_sorted:\n",
    "    try:\n",
    "        print(f\"converting {f.name}\")\n",
    "        fitfile = fp.FitFile(f.__str__())\n",
    "        \n",
    "        output_messages(fitfile)\n",
    "        \n",
    "    except fp.utils.FitCRCError as err:\n",
    "        print(type(err))    # the exception type\n",
    "        print(err.args)     # arguments stored in .args\n",
    "        print(err) \n",
    "        print(f\"error with {f.name}\")\n",
    "        \n",
    "        \n",
    "#fi = datadir+'/'+'op.csv'\n",
    "#output_csv(timestamp, hrdata, fi)"
   ]
  },
  {
   "cell_type": "code",
   "execution_count": null,
   "id": "f300a358",
   "metadata": {},
   "outputs": [],
   "source": [
    "#choose the right directory hwere fit files are located\n",
    "dir = \"data/Fit_data/\"\n",
    "testdir = \"C:/temp/data/test\"\n",
    "datadir = dir\n",
    "\n",
    "UTC = pytz.UTC\n",
    "GMT = pytz.timezone('Europe/London')\n",
    "\n",
    "# heart rate data list\n",
    "hrdata = []\n",
    "# corresponding timestamp\n",
    "timestamp = []\n",
    "\n",
    "# globals to get the time data\n",
    "current_timestamp = datetime.datetime.now()\n",
    "timestamp_16 = None"
   ]
  },
  {
   "cell_type": "code",
   "execution_count": null,
   "id": "22bfbd01",
   "metadata": {},
   "outputs": [],
   "source": [
    "# get the fit files in order (maybe)\n",
    "files = sorted(Path(datadir).glob('*.fit'))\n",
    "\n",
    "for f in files:\n",
    "\n",
    "    ff = datadir+'/'+f.\n",
    "\n",
    "    fitfile = fitparse.FitFile(ff)\n",
    "\n",
    "    print(\"converting {}\".format(f.name))\n",
    "\n",
    "    output_messages(fitfile)\n",
    "\n",
    "fi = datadir+'/'+'op.csv'\n",
    "output_csv(timestamp, hrdata, fi)\n"
   ]
  },
  {
   "cell_type": "code",
   "execution_count": null,
   "id": "45e68310",
   "metadata": {},
   "outputs": [],
   "source": [
    "np.uint16(np.iinfo(np.uint16).max) # unit16 max"
   ]
  },
  {
   "cell_type": "code",
   "execution_count": null,
   "id": "34449ef0",
   "metadata": {},
   "outputs": [],
   "source": []
  }
 ],
 "metadata": {
  "kernelspec": {
   "display_name": "Python 3",
   "language": "python",
   "name": "python3"
  },
  "language_info": {
   "codemirror_mode": {
    "name": "ipython",
    "version": 3
   },
   "file_extension": ".py",
   "mimetype": "text/x-python",
   "name": "python",
   "nbconvert_exporter": "python",
   "pygments_lexer": "ipython3",
   "version": "3.11.6"
  }
 },
 "nbformat": 4,
 "nbformat_minor": 5
}
