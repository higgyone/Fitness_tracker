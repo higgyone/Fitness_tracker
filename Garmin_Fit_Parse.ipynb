{
 "cells": [
  {
   "cell_type": "code",
   "execution_count": 1,
   "id": "311a5989",
   "metadata": {},
   "outputs": [],
   "source": [
    "import matplotlib.pyplot as plt\n",
    "import numpy as np\n",
    "import pandas as pd\n",
    "import fitparse as fp\n",
    "import csv\n",
    "import pytz\n",
    "import datetime\n",
    "from pathlib import Path\n",
    "import os"
   ]
  },
  {
   "cell_type": "code",
   "execution_count": 2,
   "id": "fdec7e5e",
   "metadata": {},
   "outputs": [],
   "source": [
    "def print_record(data):\n",
    "    \"\"\"\n",
    "    test method to print out the data in a record\n",
    "    \"\"\"\n",
    "    for record in data:\n",
    "        for field in record:\n",
    "            if field.units:\n",
    "                print (\" * %s: %s %s\" % (\n",
    "                    field.name, field.value, field.units))\n",
    "            else:\n",
    "                print (\" * %s: %s\" % (field.name, field.value))"
   ]
  },
  {
   "cell_type": "code",
   "execution_count": 3,
   "id": "edd04df6",
   "metadata": {},
   "outputs": [],
   "source": [
    "def get_time(record):\n",
    "    \"\"\"\n",
    "    extract the time from data. Note for heart rate data the timestamp is int(16) up to 65536 ~ 18hours\n",
    "    This will overflow and needs normalised so it wont give a crazy result on overflow.\n",
    "\n",
    "    Every now and then there will be a timestamp giving the right date and time. \n",
    "    Heart rate data is timestamped on a rolling seconds counter. Need to set the first timestamp_16 to the\n",
    "    global time then work out the next time based on the difference between timestamp_16s adding that to global time\n",
    "    \"\"\"\n",
    "    new_timestamp_16 = None\n",
    "    \n",
    "    # difference between successive timestamp_16\n",
    "    delta_diff = 0\n",
    "    global timestamp_16\n",
    "    global current_timestamp\n",
    "\n",
    "    for r in record:\n",
    "        if r.field is not None:\n",
    "            if r.name == 'timestamp_16':\n",
    "                new_timestamp_16 = r.value\n",
    "\n",
    "    # if the timestamp is none then set it to the global time\n",
    "    if new_timestamp_16 is not None:\n",
    "        if timestamp_16 is None:\n",
    "            timestamp_16 = new_timestamp_16\n",
    "        \n",
    "        delta_diff = new_timestamp_16 - timestamp_16\n",
    "        \n",
    "        # deal with overflow\n",
    "        if delta_diff < 0:\n",
    "            delta_diff += 65536\n",
    "        \n",
    "        current_timestamp += datetime.timedelta(seconds=delta_diff)\n",
    "        timestamp_16 = new_timestamp_16\n",
    "        #print(current_timestamp)\n",
    "        return current_timestamp"
   ]
  },
  {
   "cell_type": "code",
   "execution_count": 4,
   "id": "ed42b234",
   "metadata": {},
   "outputs": [],
   "source": [
    "def get_heartrate(record):\n",
    "    \"\"\"\n",
    "    Return the heart rate from the record\n",
    "    \"\"\"\n",
    "    for r in record:\n",
    "        if r.name == 'heart_rate':\n",
    "            return r.value"
   ]
  },
  {
   "cell_type": "code",
   "execution_count": 5,
   "id": "75412beb",
   "metadata": {},
   "outputs": [],
   "source": [
    "def output_messages(fitfile):\n",
    "    \"\"\"\n",
    "    Go through the fitfile and extract time and heart rate data\n",
    "    \"\"\"\n",
    "    messages = fitfile.get_messages()\n",
    "\n",
    "    global current_timestamp\n",
    "    global timestamp_16\n",
    "\n",
    "    global hrdata\n",
    "    global timestamp\n",
    "\n",
    "    for record in messages:\n",
    "    # Go through all the data entries in this record\n",
    "\n",
    "        # Extract the global time stamp\n",
    "        if record.name == 'monitoring_info':\n",
    "            for r in record.fields:\n",
    "                if r.field is not None:\n",
    "                    if r.field.name == 'local_timestamp':\n",
    "                        current_timestamp = r.value\n",
    "                        timestamp_16 = None\n",
    "                        #print(\"Timestamp: {}\".format(current_timestamp))\n",
    "\n",
    "        # get the heart rate data\n",
    "        if record.name == 'monitoring':\n",
    "            for r in record:\n",
    "                if r.field is not None:\n",
    "                    if r.field.name =='heart_rate':\n",
    "                        time = get_time(record)\n",
    "                        hr = get_heartrate(record)\n",
    "\n",
    "                        timestamp.append(time)\n",
    "                        hrdata.append(hr)\n",
    "                        #print(\"Time: {}   Heart: {}\".format(time,hr))"
   ]
  },
  {
   "cell_type": "code",
   "execution_count": 6,
   "id": "b013ed3f",
   "metadata": {},
   "outputs": [],
   "source": [
    "def output_csv(time, hr, fi):\n",
    "    \"\"\"\n",
    "    Write the extracted time and heart rate data to csv fiile\n",
    "    \"\"\"\n",
    "    data = [time, hr]\n",
    "\n",
    "    csvFile = open(fi,'w')\n",
    "    with csvFile:\n",
    "        print(\"Writing csv to: {}\".format(fi))\n",
    "        writer = csv.writer(csvFile, lineterminator='\\n') # need lineterminator to prevent extra linebreaks\n",
    "        writer.writerow([\"Date time\", \"Heart rate BPM\"])\n",
    "        for i in range(len(time)):\n",
    "            writer.writerow([time[i],hr[i]])"
   ]
  },
  {
   "cell_type": "markdown",
   "id": "2e4157cc",
   "metadata": {},
   "source": [
    "***\n",
    "Combine all the data into one folder and strip email address out of name. Data located in\n",
    "\n",
    "\\Garmin_data\\data\n",
    "***"
   ]
  },
  {
   "cell_type": "code",
   "execution_count": null,
   "id": "dc286f65",
   "metadata": {},
   "outputs": [],
   "source": [
    "#choose the right directory where fit files are located\n",
    "dir = \"Garmin_data/fit_data_20220503\" #<-- change this!!!\n",
    "for filename in os.listdir(dir):\n",
    "    f = os.path.join(dir, filename)\n",
    "    # checking if it is a file\n",
    "    if os.path.isfile(f):\n",
    "        print(f)"
   ]
  },
  {
   "cell_type": "code",
   "execution_count": null,
   "id": "00f7aef4",
   "metadata": {},
   "outputs": [],
   "source": [
    "# get the fit files in order (maybe)\n",
    "files = sorted(Path(dir).glob('*.fit'))"
   ]
  },
  {
   "cell_type": "code",
   "execution_count": null,
   "id": "1fc96469",
   "metadata": {},
   "outputs": [],
   "source": [
    "files[0]"
   ]
  },
  {
   "cell_type": "code",
   "execution_count": null,
   "id": "f183927b",
   "metadata": {},
   "outputs": [],
   "source": [
    "ff = dir+'/'+files[0].name\n",
    "ff"
   ]
  },
  {
   "cell_type": "code",
   "execution_count": null,
   "id": "8612850e",
   "metadata": {},
   "outputs": [],
   "source": [
    "fitfile = fp.FitFile(ff)\n",
    "fitfile"
   ]
  },
  {
   "cell_type": "code",
   "execution_count": null,
   "id": "77922124",
   "metadata": {},
   "outputs": [],
   "source": [
    "mesx = fitfile.get_messages()\n",
    "mesx"
   ]
  },
  {
   "cell_type": "code",
   "execution_count": null,
   "id": "56eac9fa",
   "metadata": {},
   "outputs": [],
   "source": [
    "for r in mesx:\n",
    "    print(r)\n",
    "    for x in r:\n",
    "        print(x)"
   ]
  },
  {
   "cell_type": "code",
   "execution_count": null,
   "id": "79631e7f",
   "metadata": {},
   "outputs": [],
   "source": []
  },
  {
   "cell_type": "code",
   "execution_count": null,
   "id": "f300a358",
   "metadata": {},
   "outputs": [],
   "source": [
    "#choose the right directory hwere fit files are located\n",
    "dir = \"data/Fit_data/\"\n",
    "testdir = \"C:/temp/data/test\"\n",
    "datadir = dir\n",
    "\n",
    "UTC = pytz.UTC\n",
    "GMT = pytz.timezone('Europe/London')\n",
    "\n",
    "# heart rate data list\n",
    "hrdata = []\n",
    "# corresponding timestamp\n",
    "timestamp = []\n",
    "\n",
    "# globals to get the time data\n",
    "current_timestamp = datetime.datetime.now()\n",
    "timestamp_16 = None"
   ]
  },
  {
   "cell_type": "code",
   "execution_count": null,
   "id": "22bfbd01",
   "metadata": {},
   "outputs": [],
   "source": [
    "# get the fit files in order (maybe)\n",
    "files = sorted(Path(datadir).glob('*.fit'))\n",
    "\n",
    "for f in files:\n",
    "\n",
    "    ff = datadir+'/'+f.name\n",
    "\n",
    "    fitfile = fitparse.FitFile(ff)\n",
    "\n",
    "    print(\"converting {}\".format(f.name))\n",
    "\n",
    "    output_messages(fitfile)\n",
    "\n",
    "fi = datadir+'/'+'op.csv'\n",
    "output_csv(timestamp, hrdata, fi)\n"
   ]
  },
  {
   "cell_type": "code",
   "execution_count": null,
   "id": "45e68310",
   "metadata": {},
   "outputs": [],
   "source": [
    "np.uint16(np.iinfo(np.uint16).max) # unit16 max"
   ]
  },
  {
   "cell_type": "code",
   "execution_count": null,
   "id": "34449ef0",
   "metadata": {},
   "outputs": [],
   "source": []
  }
 ],
 "metadata": {
  "kernelspec": {
   "display_name": "Python 3",
   "language": "python",
   "name": "python3"
  },
  "language_info": {
   "codemirror_mode": {
    "name": "ipython",
    "version": 3
   },
   "file_extension": ".py",
   "mimetype": "text/x-python",
   "name": "python",
   "nbconvert_exporter": "python",
   "pygments_lexer": "ipython3",
   "version": "3.11.6"
  }
 },
 "nbformat": 4,
 "nbformat_minor": 5
}
